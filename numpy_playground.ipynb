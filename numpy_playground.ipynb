{
  "cells": [
    {
      "cell_type": "code",
      "source": [
        "import numpy as np\r\n",
        "\r\n",
        "#np version\r\n",
        "print(np.__version__)\r\n",
        "\r\n",
        "#array\r\n",
        "arr = np.array([1,2,3])\r\n",
        "print(arr)\r\n"
      ],
      "outputs": [
        {
          "output_type": "stream",
          "name": "stdout",
          "text": [
            "1.18.5\n",
            "[1 2 3]\n"
          ]
        }
      ],
      "execution_count": 3,
      "metadata": {
        "gather": {
          "logged": 1629036259628
        }
      }
    },
    {
      "cell_type": "code",
      "source": [
        "import numpy as np\r\n",
        "\r\n",
        "arr = np.array([1, 2, 3, 4, 5])\r\n",
        "\r\n",
        "print(arr)\r\n",
        "\r\n",
        "print(type(arr))"
      ],
      "outputs": [
        {
          "output_type": "stream",
          "name": "stdout",
          "text": [
            "[1 2 3 4 5]\n",
            "<class 'numpy.ndarray'>\n"
          ]
        }
      ],
      "execution_count": 4,
      "metadata": {
        "collapsed": true,
        "jupyter": {
          "source_hidden": false,
          "outputs_hidden": false
        },
        "nteract": {
          "transient": {
            "deleting": false
          }
        },
        "gather": {
          "logged": 1629036397630
        }
      }
    },
    {
      "cell_type": "code",
      "source": [
        "#scalar\r\n",
        "arr = np.array(42)\r\n",
        "print(arr)\r\n",
        "\r\n",
        "#1D array\r\n",
        "arr = np.array([1, 2, 3, 4, 5])\r\n",
        "print(arr)\r\n",
        "\r\n",
        "#2D array\r\n",
        "arr=np.array([[1,2,3],[4,5,6]])\r\n",
        "print(arr)\r\n",
        "arr.shape\r\n",
        "\r\n",
        "#3D array\r\n",
        "arr=np.array([[[1,2,3,4],[4,5,6,5]]])\r\n",
        "print(arr)\r\n",
        "print(arr.shape)\r\n",
        "arr[0][1][3]"
      ],
      "outputs": [
        {
          "output_type": "stream",
          "name": "stdout",
          "text": [
            "42\n",
            "[1 2 3 4 5]\n",
            "[[1 2 3]\n",
            " [4 5 6]]\n",
            "[[[1 2 3 4]\n",
            "  [4 5 6 5]]]\n",
            "(1, 2, 4)\n"
          ]
        },
        {
          "output_type": "execute_result",
          "execution_count": 20,
          "data": {
            "text/plain": "5"
          },
          "metadata": {}
        }
      ],
      "execution_count": 20,
      "metadata": {
        "collapsed": true,
        "jupyter": {
          "source_hidden": false,
          "outputs_hidden": false
        },
        "nteract": {
          "transient": {
            "deleting": false
          }
        },
        "gather": {
          "logged": 1629037270735
        }
      }
    },
    {
      "cell_type": "code",
      "source": [
        "#number dimension\r\n",
        "a = np.array(42)\r\n",
        "b = np.array([1, 2, 3, 4, 5])\r\n",
        "c = np.array([[1, 2, 3], [4, 5, 6]])\r\n",
        "d = np.array([[[1, 2, 3], [4, 5, 6]], [[1, 2, 3], [4, 5, 6]]])\r\n",
        "\r\n",
        "print(a.ndim)\r\n",
        "print(b.ndim)\r\n",
        "print(c.ndim)\r\n",
        "print(d.ndim)"
      ],
      "outputs": [
        {
          "output_type": "stream",
          "name": "stdout",
          "text": [
            "0\n",
            "1\n",
            "2\n",
            "3\n"
          ]
        }
      ],
      "execution_count": 21,
      "metadata": {
        "collapsed": true,
        "jupyter": {
          "source_hidden": false,
          "outputs_hidden": false
        },
        "nteract": {
          "transient": {
            "deleting": false
          }
        },
        "gather": {
          "logged": 1629037335185
        }
      }
    },
    {
      "cell_type": "code",
      "source": [
        "#create array with 5 dimension\r\n",
        "arr = np.array([1, 2, 3, 4], ndmin=5)\r\n",
        "\r\n",
        "print(arr)\r\n",
        "print('number of dimensions :', arr.ndim)\r\n",
        "print(arr.shape)\r\n",
        "print(arr[0][0][0][0][0])\r\n",
        "print(arr[0][0][0][0][1])\r\n",
        "print(arr[0][0][0][0][2])\r\n",
        "print(arr[0][0][0][0][3])\r\n"
      ],
      "outputs": [
        {
          "output_type": "stream",
          "name": "stdout",
          "text": [
            "[[[[[1 2 3 4]]]]]\n",
            "number of dimensions : 5\n",
            "(1, 1, 1, 1, 4)\n",
            "1\n",
            "2\n",
            "3\n",
            "4\n"
          ]
        }
      ],
      "execution_count": 25,
      "metadata": {
        "collapsed": true,
        "jupyter": {
          "source_hidden": false,
          "outputs_hidden": false
        },
        "nteract": {
          "transient": {
            "deleting": false
          }
        },
        "gather": {
          "logged": 1629037609239
        }
      }
    },
    {
      "cell_type": "code",
      "source": [
        "#Get third and fourth elements from the following array and add them.\r\n",
        "arr = np.array([1, 2, 3, 4])\r\n",
        "\r\n",
        "print(arr[2] + arr[3])"
      ],
      "outputs": [
        {
          "output_type": "stream",
          "name": "stdout",
          "text": [
            "7\n"
          ]
        }
      ],
      "execution_count": 26,
      "metadata": {
        "collapsed": true,
        "jupyter": {
          "source_hidden": false,
          "outputs_hidden": false
        },
        "nteract": {
          "transient": {
            "deleting": false
          }
        },
        "gather": {
          "logged": 1629037676307
        }
      }
    },
    {
      "cell_type": "code",
      "source": [
        "#Print the last element from the 2nd dim\r\n",
        "\r\n",
        "arr = np.array([[1,2,3,4,5], [6,7,8,9,10]])\r\n",
        "\r\n",
        "print('Last element from 2nd dim: ', arr[1, -1])"
      ],
      "outputs": [
        {
          "output_type": "stream",
          "name": "stdout",
          "text": [
            "Last element from 2nd dim:  10\n"
          ]
        }
      ],
      "execution_count": 27,
      "metadata": {
        "collapsed": true,
        "jupyter": {
          "source_hidden": false,
          "outputs_hidden": false
        },
        "nteract": {
          "transient": {
            "deleting": false
          }
        },
        "gather": {
          "logged": 1629037713685
        }
      }
    },
    {
      "cell_type": "code",
      "source": [],
      "outputs": [],
      "execution_count": null,
      "metadata": {
        "collapsed": true,
        "jupyter": {
          "source_hidden": false,
          "outputs_hidden": false
        },
        "nteract": {
          "transient": {
            "deleting": false
          }
        }
      }
    }
  ],
  "metadata": {
    "kernelspec": {
      "name": "python3-azureml",
      "language": "python",
      "display_name": "Python 3.6 - AzureML"
    },
    "language_info": {
      "name": "python",
      "version": "3.6.9",
      "mimetype": "text/x-python",
      "codemirror_mode": {
        "name": "ipython",
        "version": 3
      },
      "pygments_lexer": "ipython3",
      "nbconvert_exporter": "python",
      "file_extension": ".py"
    },
    "kernel_info": {
      "name": "python3-azureml"
    },
    "microsoft": {
      "host": {
        "AzureML": {
          "notebookHasBeenCompleted": true
        }
      }
    },
    "nteract": {
      "version": "nteract-front-end@1.0.0"
    }
  },
  "nbformat": 4,
  "nbformat_minor": 2
}