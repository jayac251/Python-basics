{
  "cells": [
    {
      "cell_type": "code",
      "source": [
        "import numpy as np\r\n",
        "\r\n",
        "#np version\r\n",
        "print(np.__version__)\r\n",
        "\r\n",
        "#array\r\n",
        "arr = np.array([1,2,3])\r\n",
        "print(arr)\r\n"
      ],
      "outputs": [
        {
          "output_type": "stream",
          "name": "stdout",
          "text": [
            "1.18.5\n",
            "[1 2 3]\n"
          ]
        }
      ],
      "execution_count": 3,
      "metadata": {
        "gather": {
          "logged": 1629036259628
        }
      }
    },
    {
      "cell_type": "code",
      "source": [
        "import numpy as np\r\n",
        "\r\n",
        "arr = np.array([1, 2, 3, 4, 5])\r\n",
        "\r\n",
        "print(arr)\r\n",
        "\r\n",
        "print(type(arr))"
      ],
      "outputs": [
        {
          "output_type": "stream",
          "name": "stdout",
          "text": [
            "[1 2 3 4 5]\n",
            "<class 'numpy.ndarray'>\n"
          ]
        }
      ],
      "execution_count": 4,
      "metadata": {
        "collapsed": true,
        "jupyter": {
          "source_hidden": false,
          "outputs_hidden": false
        },
        "nteract": {
          "transient": {
            "deleting": false
          }
        },
        "gather": {
          "logged": 1629036397630
        }
      }
    },
    {
      "cell_type": "code",
      "source": [
        "#scalar\r\n",
        "arr = np.array(42)\r\n",
        "print(arr)\r\n",
        "\r\n",
        "#1D array\r\n",
        "arr = np.array([1, 2, 3, 4, 5])\r\n",
        "print(arr)\r\n",
        "\r\n",
        "#2D array\r\n",
        "arr=np.array([[1,2,3],[4,5,6]])\r\n",
        "print(arr)\r\n",
        "arr.shape\r\n",
        "\r\n",
        "#3D array\r\n",
        "arr=np.array([[[1,2,3,4],[4,5,6,5]]])\r\n",
        "print(arr)\r\n",
        "print(arr.shape)\r\n",
        "arr[0][1][3]"
      ],
      "outputs": [
        {
          "output_type": "stream",
          "name": "stdout",
          "text": [
            "42\n",
            "[1 2 3 4 5]\n",
            "[[1 2 3]\n",
            " [4 5 6]]\n",
            "[[[1 2 3 4]\n",
            "  [4 5 6 5]]]\n",
            "(1, 2, 4)\n"
          ]
        },
        {
          "output_type": "execute_result",
          "execution_count": 20,
          "data": {
            "text/plain": "5"
          },
          "metadata": {}
        }
      ],
      "execution_count": 20,
      "metadata": {
        "collapsed": true,
        "jupyter": {
          "source_hidden": false,
          "outputs_hidden": false
        },
        "nteract": {
          "transient": {
            "deleting": false
          }
        },
        "gather": {
          "logged": 1629037270735
        }
      }
    },
    {
      "cell_type": "code",
      "source": [
        "#number dimension\r\n",
        "a = np.array(42)\r\n",
        "b = np.array([1, 2, 3, 4, 5])\r\n",
        "c = np.array([[1, 2, 3], [4, 5, 6]])\r\n",
        "d = np.array([[[1, 2, 3], [4, 5, 6]], [[1, 2, 3], [4, 5, 6]]])\r\n",
        "\r\n",
        "print(a.ndim)\r\n",
        "print(b.ndim)\r\n",
        "print(c.ndim)\r\n",
        "print(d.ndim)"
      ],
      "outputs": [
        {
          "output_type": "stream",
          "name": "stdout",
          "text": [
            "0\n",
            "1\n",
            "2\n",
            "3\n"
          ]
        }
      ],
      "execution_count": 21,
      "metadata": {
        "collapsed": true,
        "jupyter": {
          "source_hidden": false,
          "outputs_hidden": false
        },
        "nteract": {
          "transient": {
            "deleting": false
          }
        },
        "gather": {
          "logged": 1629037335185
        }
      }
    },
    {
      "cell_type": "code",
      "source": [
        "#create array with 5 dimension\r\n",
        "arr = np.array([1, 2, 3, 4], ndmin=5)\r\n",
        "\r\n",
        "print(arr)\r\n",
        "print('number of dimensions :', arr.ndim)\r\n",
        "print(arr.shape)\r\n",
        "print(arr[0][0][0][0][0])\r\n",
        "print(arr[0][0][0][0][1])\r\n",
        "print(arr[0][0][0][0][2])\r\n",
        "print(arr[0][0][0][0][3])\r\n"
      ],
      "outputs": [
        {
          "output_type": "stream",
          "name": "stdout",
          "text": [
            "[[[[[1 2 3 4]]]]]\n",
            "number of dimensions : 5\n",
            "(1, 1, 1, 1, 4)\n",
            "1\n",
            "2\n",
            "3\n",
            "4\n"
          ]
        }
      ],
      "execution_count": 25,
      "metadata": {
        "collapsed": true,
        "jupyter": {
          "source_hidden": false,
          "outputs_hidden": false
        },
        "nteract": {
          "transient": {
            "deleting": false
          }
        },
        "gather": {
          "logged": 1629037609239
        }
      }
    },
    {
      "cell_type": "code",
      "source": [
        "#Get third and fourth elements from the following array and add them.\r\n",
        "arr = np.array([1, 2, 3, 4])\r\n",
        "\r\n",
        "print(arr[2] + arr[3])"
      ],
      "outputs": [
        {
          "output_type": "stream",
          "name": "stdout",
          "text": [
            "7\n"
          ]
        }
      ],
      "execution_count": 26,
      "metadata": {
        "collapsed": true,
        "jupyter": {
          "source_hidden": false,
          "outputs_hidden": false
        },
        "nteract": {
          "transient": {
            "deleting": false
          }
        },
        "gather": {
          "logged": 1629037676307
        }
      }
    },
    {
      "cell_type": "code",
      "source": [
        "#Print the last element from the 2nd dim\r\n",
        "\r\n",
        "arr = np.array([[1,2,3,4,5], [6,7,8,9,10]])\r\n",
        "\r\n",
        "print('Last element from 2nd dim: ', arr[1, -1])"
      ],
      "outputs": [
        {
          "output_type": "stream",
          "name": "stdout",
          "text": [
            "Last element from 2nd dim:  10\n"
          ]
        }
      ],
      "execution_count": 27,
      "metadata": {
        "collapsed": true,
        "jupyter": {
          "source_hidden": false,
          "outputs_hidden": false
        },
        "nteract": {
          "transient": {
            "deleting": false
          }
        },
        "gather": {
          "logged": 1629037713685
        }
      }
    },
    {
      "cell_type": "code",
      "source": [
        "#array slicing\r\n",
        "#[start:end:step]\r\n",
        "\r\n",
        "arr = np.array([1, 2, 3, 4, 5, 6, 7])\r\n",
        "\r\n",
        "print('Slice elements from index 1 to index 5 from the following array:',arr[1:5])\r\n",
        "print('Slice elements from index 4 to the end of the array:',arr[4:])\r\n",
        "print('Slice elements from the beginning to index 4 (not included):',arr[:4])\r\n",
        "print('Slice from the index 3 from the end to index 1 from the end:',arr[-3:-1])\r\n",
        "print('Return every other element from index 1 to index 5:',arr[1:5:2])\r\n",
        "print('Return every other element from the entire array:',arr[::2])\r\n",
        "\r\n",
        "arr = np.array([[1, 2, 3, 4, 5], [6, 7, 8, 9, 10]])\r\n",
        "print('From the second element, slice elements from index 1 to index 4 (not included):',arr[1, 1:4])\r\n",
        "print('From both elements, return index 2:',arr[0:2, 2])\r\n",
        "print('From both elements, slice index 1 to index 4 (not included), this will return a 2-D array:',arr[0:2, 1:4])\r\n",
        "\r\n"
      ],
      "outputs": [
        {
          "output_type": "stream",
          "name": "stdout",
          "text": [
            "Slice elements from index 1 to index 5 from the following array: [2 3 4 5]\n",
            "Slice elements from index 4 to the end of the array: [5 6 7]\n",
            "Slice elements from the beginning to index 4 (not included): [1 2 3 4]\n",
            "Slice from the index 3 from the end to index 1 from the end: [5 6]\n",
            "Return every other element from index 1 to index 5: [2 4]\n",
            "Return every other element from the entire array: [1 3 5 7]\n",
            "From the second element, slice elements from index 1 to index 4 (not included): [7 8 9]\n",
            "From both elements, return index 2: [3 8]\n",
            "From both elements, slice index 1 to index 4 (not included), this will return a 2-D array: [[2 3 4]\n",
            " [7 8 9]]\n"
          ]
        }
      ],
      "execution_count": 28,
      "metadata": {
        "collapsed": true,
        "jupyter": {
          "source_hidden": false,
          "outputs_hidden": false
        },
        "nteract": {
          "transient": {
            "deleting": false
          }
        },
        "gather": {
          "logged": 1629045307708
        }
      }
    },
    {
      "cell_type": "code",
      "source": [
        "#array datatype\r\n",
        "#i - integer\r\n",
        "#b - boolean\r\n",
        "#u - unsigned integer\r\n",
        "#f - float\r\n",
        "#c - complex float\r\n",
        "#m - timedelta\r\n",
        "#M - datetime\r\n",
        "#O - object\r\n",
        "#S - string\r\n",
        "#U - unicode string\r\n",
        "#V - fixed chunk of memory for other type ( void )\r\n",
        "\r\n",
        "\r\n",
        "arr = np.array([1, 2, 3, 4])\r\n",
        "\r\n",
        "print(arr.dtype)\r\n",
        "\r\n",
        "arr = np.array(['apple', 'banana', 'cherry'])\r\n",
        "\r\n",
        "print(arr.dtype)\r\n",
        "\r\n",
        "#Create an array with data type string:\r\n",
        "arr = np.array([1, 2, 3, 4], dtype='S')\r\n",
        "\r\n",
        "print('Create an array with data type string:',arr)\r\n",
        "print(arr.dtype)\r\n",
        "\r\n",
        "arr = np.array([1, 2, 3, 4], dtype='i4')\r\n",
        "\r\n",
        "print(arr)\r\n",
        "print(arr.dtype)"
      ],
      "outputs": [
        {
          "output_type": "stream",
          "name": "stdout",
          "text": [
            "int64\n",
            "<U6\n",
            "Create an array with data type string: [b'1' b'2' b'3' b'4']\n",
            "|S1\n",
            "[1 2 3 4]\n",
            "int32\n"
          ]
        }
      ],
      "execution_count": 31,
      "metadata": {
        "collapsed": true,
        "jupyter": {
          "source_hidden": false,
          "outputs_hidden": false
        },
        "nteract": {
          "transient": {
            "deleting": false
          }
        },
        "gather": {
          "logged": 1629045746744
        }
      }
    },
    {
      "cell_type": "code",
      "source": [
        "arr = np.array([1.1, 2.1, 3.1])\r\n",
        "\r\n",
        "newarr = arr.astype('i')\r\n",
        "\r\n",
        "print(newarr)\r\n",
        "print(newarr.dtype)"
      ],
      "outputs": [
        {
          "output_type": "stream",
          "name": "stdout",
          "text": [
            "[1 2 3]\n",
            "int32\n"
          ]
        }
      ],
      "execution_count": 32,
      "metadata": {
        "collapsed": true,
        "jupyter": {
          "source_hidden": false,
          "outputs_hidden": false
        },
        "nteract": {
          "transient": {
            "deleting": false
          }
        },
        "gather": {
          "logged": 1629045760413
        }
      }
    },
    {
      "cell_type": "code",
      "source": [
        "arr = np.array([1.1, 2.1, 3.1])\r\n",
        "\r\n",
        "newarr = arr.astype(int)\r\n",
        "\r\n",
        "print(newarr)\r\n",
        "print(newarr.dtype)"
      ],
      "outputs": [
        {
          "output_type": "stream",
          "name": "stdout",
          "text": [
            "[1 2 3]\n",
            "int64\n"
          ]
        }
      ],
      "execution_count": 33,
      "metadata": {
        "collapsed": true,
        "jupyter": {
          "source_hidden": false,
          "outputs_hidden": false
        },
        "nteract": {
          "transient": {
            "deleting": false
          }
        },
        "gather": {
          "logged": 1629045769419
        }
      }
    },
    {
      "cell_type": "code",
      "source": [
        "arr = np.array([1, 0, 3])\r\n",
        "\r\n",
        "newarr = arr.astype(bool)\r\n",
        "\r\n",
        "print(newarr)\r\n",
        "print(newarr.dtype)"
      ],
      "outputs": [
        {
          "output_type": "stream",
          "name": "stdout",
          "text": [
            "[ True False  True]\n",
            "bool\n"
          ]
        }
      ],
      "execution_count": 34,
      "metadata": {
        "collapsed": true,
        "jupyter": {
          "source_hidden": false,
          "outputs_hidden": false
        },
        "nteract": {
          "transient": {
            "deleting": false
          }
        },
        "gather": {
          "logged": 1629045781085
        }
      }
    },
    {
      "cell_type": "code",
      "source": [
        "arr = np.array(['a', '2', '3'], dtype='i')"
      ],
      "outputs": [
        {
          "output_type": "error",
          "ename": "ValueError",
          "evalue": "invalid literal for int() with base 10: 'a'",
          "traceback": [
            "\u001b[0;31m---------------------------------------------------------------------------\u001b[0m",
            "\u001b[0;31mValueError\u001b[0m                                Traceback (most recent call last)",
            "\u001b[0;32m<ipython-input-35-4101754d9810>\u001b[0m in \u001b[0;36m<module>\u001b[0;34m\u001b[0m\n\u001b[0;32m----> 1\u001b[0;31m \u001b[0marr\u001b[0m \u001b[0;34m=\u001b[0m \u001b[0mnp\u001b[0m\u001b[0;34m.\u001b[0m\u001b[0marray\u001b[0m\u001b[0;34m(\u001b[0m\u001b[0;34m[\u001b[0m\u001b[0;34m'a'\u001b[0m\u001b[0;34m,\u001b[0m \u001b[0;34m'2'\u001b[0m\u001b[0;34m,\u001b[0m \u001b[0;34m'3'\u001b[0m\u001b[0;34m]\u001b[0m\u001b[0;34m,\u001b[0m \u001b[0mdtype\u001b[0m\u001b[0;34m=\u001b[0m\u001b[0;34m'i'\u001b[0m\u001b[0;34m)\u001b[0m\u001b[0;34m\u001b[0m\u001b[0;34m\u001b[0m\u001b[0m\n\u001b[0m",
            "\u001b[0;31mValueError\u001b[0m: invalid literal for int() with base 10: 'a'"
          ]
        }
      ],
      "execution_count": 35,
      "metadata": {
        "collapsed": true,
        "jupyter": {
          "source_hidden": false,
          "outputs_hidden": false
        },
        "nteract": {
          "transient": {
            "deleting": false
          }
        }
      }
    },
    {
      "cell_type": "code",
      "source": [
        "#Array Copy vs View\r\n",
        "\r\n",
        "#Make a copy, change the original array, and display both arrays:\r\n",
        "arr = np.array([1, 2, 3, 4, 5])\r\n",
        "x = arr.copy()\r\n",
        "arr[0] = 42\r\n",
        "\r\n",
        "print(arr)\r\n",
        "print('COPY ',x)\r\n",
        "\r\n",
        "#######################\r\n",
        "#Make a view, change the original array, and display both arrays:\r\n",
        "arr = np.array([1, 2, 3, 4, 5])\r\n",
        "x = arr.view()\r\n",
        "arr[0] = 42\r\n",
        "\r\n",
        "print(arr)\r\n",
        "print('VIEW', x)\r\n",
        "#########################3\r\n",
        "#Make a view, change the view, and display both arrays:\r\n",
        "arr = np.array([1, 2, 3, 4, 5])\r\n",
        "x = arr.view()\r\n",
        "x[0] = 31\r\n",
        "\r\n",
        "print(arr)\r\n",
        "print('VIEW CHANGE ',x)"
      ],
      "outputs": [
        {
          "output_type": "stream",
          "name": "stdout",
          "text": [
            "[42  2  3  4  5]\n",
            "COPY  [1 2 3 4 5]\n",
            "[42  2  3  4  5]\n",
            "VIEW [42  2  3  4  5]\n",
            "[31  2  3  4  5]\n",
            "VIEW CHANGE  [31  2  3  4  5]\n"
          ]
        }
      ],
      "execution_count": 39,
      "metadata": {
        "collapsed": true,
        "jupyter": {
          "source_hidden": false,
          "outputs_hidden": false
        },
        "nteract": {
          "transient": {
            "deleting": false
          }
        },
        "gather": {
          "logged": 1629045970546
        }
      }
    },
    {
      "cell_type": "code",
      "source": [
        "#As mentioned above, copies owns the data, and views does not own the data, but how can we check this?\r\n",
        "\r\n",
        "#Every NumPy array has the attribute base that returns None if the array owns the data.\r\n",
        "\r\n",
        "#Otherwise, the base  attribute refers to the original object.\r\n",
        "\r\n",
        "arr = np.array([1, 2, 3, 4, 5])\r\n",
        "\r\n",
        "x = arr.copy()\r\n",
        "y = arr.view()\r\n",
        "\r\n",
        "print(x.base)\r\n",
        "print(y.base)"
      ],
      "outputs": [
        {
          "output_type": "stream",
          "name": "stdout",
          "text": [
            "None\n",
            "[1 2 3 4 5]\n"
          ]
        }
      ],
      "execution_count": 41,
      "metadata": {
        "collapsed": true,
        "jupyter": {
          "source_hidden": false,
          "outputs_hidden": false
        },
        "nteract": {
          "transient": {
            "deleting": false
          }
        },
        "gather": {
          "logged": 1629046036244
        }
      }
    },
    {
      "cell_type": "code",
      "source": [
        "#The shape of an array is the number of elements in each dimension.\r\n",
        "arr = np.array([[1, 2, 3, 4], [5, 6, 7, 8]])\r\n",
        "\r\n",
        "print(arr.shape)\r\n",
        "\r\n",
        "#Create an array with 5 dimensions using ndmin using a vector with values 1,2,3,4 and verify that last dimension has value 4:\r\n",
        "arr = np.array([1, 2, 3, 4], ndmin=5)\r\n",
        "\r\n",
        "print(arr)\r\n",
        "print('shape of array :', arr.shape)"
      ],
      "outputs": [
        {
          "output_type": "stream",
          "name": "stdout",
          "text": [
            "(2, 4)\n",
            "[[[[[1 2 3 4]]]]]\n",
            "shape of array : (1, 1, 1, 1, 4)\n"
          ]
        }
      ],
      "execution_count": 42,
      "metadata": {
        "collapsed": true,
        "jupyter": {
          "source_hidden": false,
          "outputs_hidden": false
        },
        "nteract": {
          "transient": {
            "deleting": false
          }
        },
        "gather": {
          "logged": 1629046192846
        }
      }
    },
    {
      "cell_type": "code",
      "source": [
        "#Convert the following 1-D array with 12 elements into a 2-D array.\r\n",
        "\r\n",
        "#The outermost dimension will have 4 arrays, each with 3 elements:\r\n",
        "\r\n",
        "arr = np.array([1, 2, 3, 4, 5, 6, 7, 8, 9, 10, 11, 12])\r\n",
        "\r\n",
        "newarr = arr.reshape(4, 3)\r\n",
        "\r\n",
        "print(newarr)"
      ],
      "outputs": [
        {
          "output_type": "stream",
          "name": "stdout",
          "text": [
            "[[ 1  2  3]\n",
            " [ 4  5  6]\n",
            " [ 7  8  9]\n",
            " [10 11 12]]\n"
          ]
        }
      ],
      "execution_count": 43,
      "metadata": {
        "collapsed": true,
        "jupyter": {
          "source_hidden": false,
          "outputs_hidden": false
        },
        "nteract": {
          "transient": {
            "deleting": false
          }
        },
        "gather": {
          "logged": 1629046346951
        }
      }
    },
    {
      "cell_type": "code",
      "source": [
        "#Convert the following 1-D array with 12 elements into a 3-D array.\r\n",
        "\r\n",
        "#The outermost dimension will have 2 arrays that contains 3 arrays, each with 2 elements:\r\n",
        "\r\n",
        "arr = np.array([1, 2, 3, 4, 5, 6, 7, 8, 9, 10, 11, 12])\r\n",
        "\r\n",
        "newarr = arr.reshape(2, 3, 2)\r\n",
        "\r\n",
        "print(newarr)"
      ],
      "outputs": [
        {
          "output_type": "stream",
          "name": "stdout",
          "text": [
            "[[[ 1  2]\n",
            "  [ 3  4]\n",
            "  [ 5  6]]\n",
            "\n",
            " [[ 7  8]\n",
            "  [ 9 10]\n",
            "  [11 12]]]\n"
          ]
        }
      ],
      "execution_count": 45,
      "metadata": {
        "collapsed": true,
        "jupyter": {
          "source_hidden": false,
          "outputs_hidden": false
        },
        "nteract": {
          "transient": {
            "deleting": false
          }
        },
        "gather": {
          "logged": 1629046415698
        }
      }
    },
    {
      "cell_type": "code",
      "source": [
        "#We can reshape an 8 elements 1D array into 4 elements in 2 rows 2D array but we cannot reshape it into a 3 elements 3 rows 2D array as that would require 3x3 = 9 elements.\r\n",
        "\r\n",
        "arr = np.array([1, 2, 3, 4, 5, 6, 7, 8])\r\n",
        "\r\n",
        "newarr = arr.reshape(3, 3)\r\n",
        "\r\n",
        "print(newarr)"
      ],
      "outputs": [
        {
          "output_type": "error",
          "ename": "ValueError",
          "evalue": "cannot reshape array of size 8 into shape (3,3)",
          "traceback": [
            "\u001b[0;31m---------------------------------------------------------------------------\u001b[0m",
            "\u001b[0;31mValueError\u001b[0m                                Traceback (most recent call last)",
            "\u001b[0;32m<ipython-input-44-101362a95442>\u001b[0m in \u001b[0;36m<module>\u001b[0;34m\u001b[0m\n\u001b[1;32m      3\u001b[0m \u001b[0marr\u001b[0m \u001b[0;34m=\u001b[0m \u001b[0mnp\u001b[0m\u001b[0;34m.\u001b[0m\u001b[0marray\u001b[0m\u001b[0;34m(\u001b[0m\u001b[0;34m[\u001b[0m\u001b[0;36m1\u001b[0m\u001b[0;34m,\u001b[0m \u001b[0;36m2\u001b[0m\u001b[0;34m,\u001b[0m \u001b[0;36m3\u001b[0m\u001b[0;34m,\u001b[0m \u001b[0;36m4\u001b[0m\u001b[0;34m,\u001b[0m \u001b[0;36m5\u001b[0m\u001b[0;34m,\u001b[0m \u001b[0;36m6\u001b[0m\u001b[0;34m,\u001b[0m \u001b[0;36m7\u001b[0m\u001b[0;34m,\u001b[0m \u001b[0;36m8\u001b[0m\u001b[0;34m]\u001b[0m\u001b[0;34m)\u001b[0m\u001b[0;34m\u001b[0m\u001b[0;34m\u001b[0m\u001b[0m\n\u001b[1;32m      4\u001b[0m \u001b[0;34m\u001b[0m\u001b[0m\n\u001b[0;32m----> 5\u001b[0;31m \u001b[0mnewarr\u001b[0m \u001b[0;34m=\u001b[0m \u001b[0marr\u001b[0m\u001b[0;34m.\u001b[0m\u001b[0mreshape\u001b[0m\u001b[0;34m(\u001b[0m\u001b[0;36m3\u001b[0m\u001b[0;34m,\u001b[0m \u001b[0;36m3\u001b[0m\u001b[0;34m)\u001b[0m\u001b[0;34m\u001b[0m\u001b[0;34m\u001b[0m\u001b[0m\n\u001b[0m\u001b[1;32m      6\u001b[0m \u001b[0;34m\u001b[0m\u001b[0m\n\u001b[1;32m      7\u001b[0m \u001b[0mprint\u001b[0m\u001b[0;34m(\u001b[0m\u001b[0mnewarr\u001b[0m\u001b[0;34m)\u001b[0m\u001b[0;34m\u001b[0m\u001b[0;34m\u001b[0m\u001b[0m\n",
            "\u001b[0;31mValueError\u001b[0m: cannot reshape array of size 8 into shape (3,3)"
          ]
        }
      ],
      "execution_count": 44,
      "metadata": {
        "collapsed": true,
        "jupyter": {
          "source_hidden": false,
          "outputs_hidden": false
        },
        "nteract": {
          "transient": {
            "deleting": false
          }
        }
      }
    },
    {
      "cell_type": "code",
      "source": [
        "\r\n",
        "#Check if the returned array is a copy or a view:\r\n",
        "arr = np.array([1, 2, 3, 4, 5, 6, 7, 8])\r\n",
        "\r\n",
        "print(arr.reshape(2, 4).base)\r\n",
        "#The example above returns the original array, so it is a view."
      ],
      "outputs": [
        {
          "output_type": "stream",
          "name": "stdout",
          "text": [
            "[1 2 3 4 5 6 7 8]\n"
          ]
        }
      ],
      "execution_count": 46,
      "metadata": {
        "collapsed": true,
        "jupyter": {
          "source_hidden": false,
          "outputs_hidden": false
        },
        "nteract": {
          "transient": {
            "deleting": false
          }
        },
        "gather": {
          "logged": 1629046446465
        }
      }
    },
    {
      "cell_type": "code",
      "source": [
        "#Convert 1D array with 8 elements to 3D array with 2x2 elements:\r\n",
        "\r\n",
        "#You are allowed to have one \"unknown\" dimension.\r\n",
        "\r\n",
        "#Meaning that you do not have to specify an exact number for one of the dimensions in the reshape method.\r\n",
        "\r\n",
        "#Pass -1 as the value, and NumPy will calculate this number for you.\r\n",
        "\r\n",
        "arr = np.array([1, 2, 3, 4, 5, 6, 7, 8])\r\n",
        "\r\n",
        "newarr = arr.reshape(2, 2, -1)\r\n",
        "\r\n",
        "print(newarr)"
      ],
      "outputs": [
        {
          "output_type": "stream",
          "name": "stdout",
          "text": [
            "[[[1 2]\n",
            "  [3 4]]\n",
            "\n",
            " [[5 6]\n",
            "  [7 8]]]\n"
          ]
        }
      ],
      "execution_count": 47,
      "metadata": {
        "collapsed": true,
        "jupyter": {
          "source_hidden": false,
          "outputs_hidden": false
        },
        "nteract": {
          "transient": {
            "deleting": false
          }
        },
        "gather": {
          "logged": 1629046743285
        }
      }
    },
    {
      "cell_type": "code",
      "source": [
        "#Flattening array means converting a multidimensional array into a 1D array.\r\n",
        "\r\n",
        "#We can use reshape(-1) to do this.\r\n",
        "\r\n",
        "arr = np.array([[1, 2, 3], [4, 5, 6]])\r\n",
        "\r\n",
        "newarr = arr.reshape(-1)\r\n",
        "\r\n",
        "print(newarr)"
      ],
      "outputs": [
        {
          "output_type": "stream",
          "name": "stdout",
          "text": [
            "[1 2 3 4 5 6]\n"
          ]
        }
      ],
      "execution_count": 48,
      "metadata": {
        "collapsed": true,
        "jupyter": {
          "source_hidden": false,
          "outputs_hidden": false
        },
        "nteract": {
          "transient": {
            "deleting": false
          }
        },
        "gather": {
          "logged": 1629046794112
        }
      }
    },
    {
      "cell_type": "code",
      "source": [
        "#Iterate on the elements of the following 1-D array:\r\n",
        "\r\n",
        "arr = np.array([1, 2, 3])\r\n",
        "\r\n",
        "for x in arr:\r\n",
        "  print(x)\r\n",
        "\r\n",
        "\r\n",
        "arr = np.array([[1, 2, 3], [4, 5, 6]])\r\n",
        "\r\n",
        "for x in arr:\r\n",
        "  print(x)\r\n",
        "\r\n",
        "\r\n",
        "\r\n",
        "arr = np.array([[1, 2, 3], [4, 5, 6]])\r\n",
        "\r\n",
        "for x in arr:\r\n",
        "  for y in x:\r\n",
        "    print(y)\r\n",
        "\r\n",
        "\r\n",
        "arr = np.array([[[1, 2, 3], [4, 5, 6]], [[7, 8, 9], [10, 11, 12]]])\r\n",
        "\r\n",
        "for x in arr:\r\n",
        "  print(x)\r\n",
        "\r\n",
        "arr = np.array([[[1, 2, 3], [4, 5, 6]], [[7, 8, 9], [10, 11, 12]]])\r\n",
        "\r\n",
        "for x in arr:\r\n",
        "  for y in x:\r\n",
        "    for z in y:\r\n",
        "      print(z)\r\n",
        "\r\n",
        "\r\n"
      ],
      "outputs": [
        {
          "output_type": "stream",
          "name": "stdout",
          "text": [
            "1\n",
            "2\n",
            "3\n",
            "[1 2 3]\n",
            "[4 5 6]\n",
            "1\n",
            "2\n",
            "3\n",
            "4\n",
            "5\n",
            "6\n",
            "[[1 2 3]\n",
            " [4 5 6]]\n",
            "[[ 7  8  9]\n",
            " [10 11 12]]\n",
            "1\n",
            "2\n",
            "3\n",
            "4\n",
            "5\n",
            "6\n",
            "7\n",
            "8\n",
            "9\n",
            "10\n",
            "11\n",
            "12\n"
          ]
        }
      ],
      "execution_count": 50,
      "metadata": {
        "collapsed": true,
        "jupyter": {
          "source_hidden": false,
          "outputs_hidden": false
        },
        "nteract": {
          "transient": {
            "deleting": false
          }
        },
        "gather": {
          "logged": 1629046993702
        }
      }
    },
    {
      "cell_type": "code",
      "source": [
        "#Iterating Arrays Using nditer()\r\n",
        "\r\n",
        "#The function nditer() is a helping function that can be used from very basic to very advanced iterations. It solves some basic issues which we face in iteration, lets go through it with examples.\r\n",
        "\r\n",
        "#Iterating on Each Scalar Element\r\n",
        "#In basic for loops, iterating through each scalar of an array we need to use n for loops which can be difficult to write for arrays with very high dimensionality.\r\n",
        "\r\n",
        "\r\n",
        "arr = np.array([[[1, 2], [3, 4]], [[5, 6], [7, 8]]])\r\n",
        "\r\n",
        "for x in np.nditer(arr):\r\n",
        "  print(x)\r\n",
        "\r\n",
        "  "
      ],
      "outputs": [
        {
          "output_type": "stream",
          "name": "stdout",
          "text": [
            "1\n",
            "2\n",
            "3\n",
            "4\n",
            "5\n",
            "6\n",
            "7\n",
            "8\n"
          ]
        }
      ],
      "execution_count": 51,
      "metadata": {
        "collapsed": true,
        "jupyter": {
          "source_hidden": false,
          "outputs_hidden": false
        },
        "nteract": {
          "transient": {
            "deleting": false
          }
        },
        "gather": {
          "logged": 1629047042424
        }
      }
    },
    {
      "cell_type": "code",
      "source": [
        "#Iterate through the array as a string:\r\n",
        "arr = np.array([1, 2, 3])\r\n",
        "\r\n",
        "for x in np.nditer(arr, flags=['buffered'], op_dtypes=['S']):\r\n",
        "  print(x)"
      ],
      "outputs": [
        {
          "output_type": "stream",
          "name": "stdout",
          "text": [
            "b'1'\n",
            "b'2'\n",
            "b'3'\n"
          ]
        }
      ],
      "execution_count": 52,
      "metadata": {
        "collapsed": true,
        "jupyter": {
          "source_hidden": false,
          "outputs_hidden": false
        },
        "nteract": {
          "transient": {
            "deleting": false
          }
        },
        "gather": {
          "logged": 1629047103447
        }
      }
    },
    {
      "cell_type": "code",
      "source": [
        "#Iterating With Different Step Size\r\n",
        "\r\n",
        "arr = np.array([[1, 2, 3, 4], [5, 6, 7, 8]])\r\n",
        "\r\n",
        "for x in np.nditer(arr[:, ::2]):\r\n",
        "  print(x)"
      ],
      "outputs": [
        {
          "output_type": "stream",
          "name": "stdout",
          "text": [
            "1\n",
            "3\n",
            "5\n",
            "7\n"
          ]
        }
      ],
      "execution_count": 53,
      "metadata": {
        "collapsed": true,
        "jupyter": {
          "source_hidden": false,
          "outputs_hidden": false
        },
        "nteract": {
          "transient": {
            "deleting": false
          }
        },
        "gather": {
          "logged": 1629047148411
        }
      }
    },
    {
      "cell_type": "code",
      "source": [
        "\r\n",
        "#Enumerated Iteration Using ndenumerate()\r\n",
        "#Enumeration means mentioning sequence number of somethings one by one.\r\n",
        "\r\n",
        "#Sometimes we require corresponding index of the element while iterating, the ndenumerate() method can be used for those usecases.\r\n",
        "\r\n",
        "\r\n",
        "arr = np.array([1, 2, 3])\r\n",
        "\r\n",
        "for idx, x in np.ndenumerate(arr):\r\n",
        "  print(idx, x)\r\n",
        "\r\n",
        "arr = np.array([[1, 2, 3, 4], [5, 6, 7, 8]])\r\n",
        "\r\n",
        "for idx, x in np.ndenumerate(arr):\r\n",
        "  print(idx, x)"
      ],
      "outputs": [
        {
          "output_type": "stream",
          "name": "stdout",
          "text": [
            "(0,) 1\n",
            "(1,) 2\n",
            "(2,) 3\n",
            "(0, 0) 1\n",
            "(0, 1) 2\n",
            "(0, 2) 3\n",
            "(0, 3) 4\n",
            "(1, 0) 5\n",
            "(1, 1) 6\n",
            "(1, 2) 7\n",
            "(1, 3) 8\n"
          ]
        }
      ],
      "execution_count": 54,
      "metadata": {
        "collapsed": true,
        "jupyter": {
          "source_hidden": false,
          "outputs_hidden": false
        },
        "nteract": {
          "transient": {
            "deleting": false
          }
        },
        "gather": {
          "logged": 1629047197670
        }
      }
    },
    {
      "cell_type": "code",
      "source": [],
      "outputs": [],
      "execution_count": null,
      "metadata": {
        "collapsed": true,
        "jupyter": {
          "source_hidden": false,
          "outputs_hidden": false
        },
        "nteract": {
          "transient": {
            "deleting": false
          }
        }
      }
    }
  ],
  "metadata": {
    "kernelspec": {
      "name": "python3-azureml",
      "language": "python",
      "display_name": "Python 3.6 - AzureML"
    },
    "language_info": {
      "name": "python",
      "version": "3.6.9",
      "mimetype": "text/x-python",
      "codemirror_mode": {
        "name": "ipython",
        "version": 3
      },
      "pygments_lexer": "ipython3",
      "nbconvert_exporter": "python",
      "file_extension": ".py"
    },
    "kernel_info": {
      "name": "python3-azureml"
    },
    "microsoft": {
      "host": {
        "AzureML": {
          "notebookHasBeenCompleted": true
        }
      }
    },
    "nteract": {
      "version": "nteract-front-end@1.0.0"
    }
  },
  "nbformat": 4,
  "nbformat_minor": 2
}